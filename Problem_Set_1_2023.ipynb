{
  "nbformat": 4,
  "nbformat_minor": 0,
  "metadata": {
    "colab": {
      "provenance": [],
      "gpuType": "T4"
    },
    "kernelspec": {
      "name": "python3",
      "display_name": "Python 3"
    },
    "language_info": {
      "name": "python"
    },
    "accelerator": "GPU"
  },
  "cells": [
    {
      "cell_type": "markdown",
      "source": [
        "# Load MNIST"
      ],
      "metadata": {
        "id": "N3oFnbEvBaMv"
      }
    },
    {
      "cell_type": "markdown",
      "source": [
        "## Part 1.a Load MNIST and show montage"
      ],
      "metadata": {
        "id": "AP0gyo9VCYRt"
      }
    },
    {
      "cell_type": "code",
      "source": [
        "import numpy as np\n",
        "import matplotlib.pyplot as plt\n",
        "import torch\n",
        "from torchvision import datasets\n",
        "from skimage.util import montage\n",
        "from skimage.io import imread"
      ],
      "metadata": {
        "id": "MyHiLSocpj2Y"
      },
      "execution_count": 1,
      "outputs": []
    },
    {
      "cell_type": "code",
      "source": [
        "def GPU(data):\n",
        "    return torch.tensor(data, requires_grad=True, dtype=torch.float, device=torch.device('cuda'))\n",
        "def GPU_data(data):\n",
        "    return torch.tensor(data, requires_grad=False, dtype=torch.float, device=torch.device('cuda'))"
      ],
      "metadata": {
        "id": "o8YzNYGcI6Qj"
      },
      "execution_count": 2,
      "outputs": []
    },
    {
      "cell_type": "code",
      "source": [
        "def plot(x):\n",
        "    if type(x) == torch.Tensor :\n",
        "        x = x.cpu().detach().numpy()\n",
        "\n",
        "    fig, ax = plt.subplots()\n",
        "    im = ax.imshow(x, cmap = 'gray')\n",
        "    ax.axis('off')\n",
        "    fig.set_size_inches(7, 7)\n",
        "    plt.show()\n",
        "def montage_plot(x):\n",
        "    x = np.pad(x, pad_width=((0, 0), (1, 1), (1, 1)), mode='constant', constant_values=0)\n",
        "    plot(montage(x))"
      ],
      "metadata": {
        "id": "5x28K3SZI5YD"
      },
      "execution_count": 3,
      "outputs": []
    },
    {
      "cell_type": "code",
      "source": [
        "# #MNIST\n",
        "train_set = datasets.MNIST('./data', train=True, download=True)\n",
        "test_set = datasets.MNIST('./data', train=False, download=True)"
      ],
      "metadata": {
        "id": "87z50eVmI8Jz"
      },
      "execution_count": 4,
      "outputs": []
    },
    {
      "cell_type": "code",
      "source": [
        "X = train_set.data.numpy()\n",
        "X_test = test_set.data.numpy()\n",
        "Y = train_set.targets.numpy()\n",
        "Y_test = test_set.targets.numpy()\n",
        "\n",
        "X = X[:,None,:,:]/255\n",
        "X_test = X_test[:,None,:,:]/255\n",
        "X.shape\n",
        "montage_plot(X[125:150,0,:,:])"
      ],
      "metadata": {
        "colab": {
          "base_uri": "https://localhost:8080/",
          "height": 576
        },
        "id": "6XbTJsYII-Tz",
        "outputId": "ec9c8ce7-92d3-4fd0-95a1-74dbe7a65273"
      },
      "execution_count": 5,
      "outputs": [
        {
          "output_type": "display_data",
          "data": {
            "text/plain": [
              "<Figure size 700x700 with 1 Axes>"
            ],
            "image/png": "[encoded data removed]"
          },
          "metadata": {}
        }
      ]
    },
    {
      "cell_type": "code",
      "source": [
        "## Run random y=mx model on MNIST\n",
        "X = X.reshape(X.shape[0],784)                    #Reshape image data tensor from (60000, 1, 28, 28) to (60000, 784)\n",
        "X_test = X_test.reshape(X_test.shape[0],784)     #Reshape image test data tensor from (60000, 1, 28, 28) to (60000, 784)\n",
        "X.shape"
      ],
      "metadata": {
        "colab": {
          "base_uri": "https://localhost:8080/"
        },
        "id": "Qb2Bv60vI0t0",
        "outputId": "839aa27f-2cf2-4d00-a7fa-6119ea3b53c9"
      },
      "execution_count": 6,
      "outputs": [
        {
          "output_type": "execute_result",
          "data": {
            "text/plain": [
              "(60000, 784)"
            ]
          },
          "metadata": {},
          "execution_count": 6
        }
      ]
    },
    {
      "cell_type": "code",
      "source": [
        "X = GPU_data(X)\n",
        "Y = GPU_data(Y)\n",
        "X_test = GPU_data(X_test)\n",
        "Y_test = GPU_data(Y_test)"
      ],
      "metadata": {
        "id": "XMzENVzEJBQT"
      },
      "execution_count": 7,
      "outputs": []
    },
    {
      "cell_type": "code",
      "source": [
        "X.shape"
      ],
      "metadata": {
        "colab": {
          "base_uri": "https://localhost:8080/"
        },
        "id": "Tp1djPZzJISj",
        "outputId": "cbde8cf3-3740-4e9a-a593-a4ac20d56493"
      },
      "execution_count": 8,
      "outputs": [
        {
          "output_type": "execute_result",
          "data": {
            "text/plain": [
              "torch.Size([60000, 784])"
            ]
          },
          "metadata": {},
          "execution_count": 8
        }
      ]
    },
    {
      "cell_type": "code",
      "source": [
        "X = X.T"
      ],
      "metadata": {
        "id": "nzViJmFrJLES"
      },
      "execution_count": 9,
      "outputs": []
    },
    {
      "cell_type": "code",
      "source": [
        "X.shape"
      ],
      "metadata": {
        "colab": {
          "base_uri": "https://localhost:8080/"
        },
        "id": "fjx3ZIY8JLYj",
        "outputId": "4e951b04-e1af-4965-8b50-f6c1c64adfb1"
      },
      "execution_count": 10,
      "outputs": [
        {
          "output_type": "execute_result",
          "data": {
            "text/plain": [
              "torch.Size([784, 60000])"
            ]
          },
          "metadata": {},
          "execution_count": 10
        }
      ]
    },
    {
      "cell_type": "code",
      "source": [
        "x = X[:,0:1]\n",
        "x.shape\n",
        "M = GPU(np.random.rand(10,784))\n",
        "y = M@x\n",
        "batch_size = 64\n",
        "\n",
        "x = X[:,0:batch_size]\n",
        "\n",
        "M = GPU(np.random.rand(10,784))\n",
        "\n",
        "y = M@x\n",
        "\n",
        "y = torch.argmax(y,0)\n",
        "\n",
        "torch.sum((y == Y[0:batch_size]))/batch_size\n"
      ],
      "metadata": {
        "colab": {
          "base_uri": "https://localhost:8080/"
        },
        "id": "nvCalaxrJJVz",
        "outputId": "e50344b0-4172-41a8-de36-af5a3227cd38"
      },
      "execution_count": 11,
      "outputs": [
        {
          "output_type": "execute_result",
          "data": {
            "text/plain": [
              "tensor(0.1562, device='cuda:0')"
            ]
          },
          "metadata": {},
          "execution_count": 11
        }
      ]
    },
    {
      "cell_type": "code",
      "source": [
        "m_best = 0\n",
        "acc_best = 0\n",
        "\n",
        "for i in range(100000):\n",
        "\n",
        "    step = 0.0000000001\n",
        "\n",
        "    m_random = GPU_data(np.random.randn(10,784))\n",
        "\n",
        "    m = m_best  + step*m_random\n",
        "\n",
        "    y = m@X\n",
        "\n",
        "    y = torch.argmax(y, axis=0)\n",
        "\n",
        "    acc = ((y == Y)).sum()/len(Y)\n",
        "\n",
        "\n",
        "    if acc > acc_best:\n",
        "        print(acc.item())\n",
        "        m_best = m\n",
        "        acc_best = acc"
      ],
      "metadata": {
        "colab": {
          "base_uri": "https://localhost:8080/",
          "height": 1000
        },
        "id": "ss5xNoTjJOzy",
        "outputId": "d2af8b4c-4a49-458f-e6e4-c0785871b379"
      },
      "execution_count": 12,
      "outputs": [
        {
          "output_type": "stream",
          "name": "stdout",
          "text": [
            "0.1569666713476181\n",
            "0.16393333673477173\n",
            "0.1864333301782608\n",
            "0.21096666157245636\n",
            "0.21175000071525574\n",
            "0.21191667020320892\n",
            "0.21970000863075256\n",
            "0.22308333218097687\n",
            "0.2309499979019165\n",
            "0.2405666708946228\n",
            "0.24828334152698517\n",
            "0.2584666609764099\n",
            "0.25964999198913574\n",
            "0.2669999897480011\n",
            "0.26836666464805603\n",
            "0.27453333139419556\n",
            "0.27596667408943176\n",
            "0.28110000491142273\n",
            "0.28478333353996277\n",
            "0.2891499996185303\n",
            "0.29065001010894775\n",
            "0.2911166846752167\n",
            "0.29161667823791504\n",
            "0.2919166684150696\n",
            "0.29760000109672546\n",
            "0.30086666345596313\n",
            "0.3080500066280365\n",
            "0.31006667017936707\n",
            "0.3106499910354614\n",
            "0.32216668128967285\n",
            "0.32591667771339417\n",
            "0.3295166790485382\n",
            "0.3321833312511444\n",
            "0.33463335037231445\n",
            "0.33808332681655884\n",
            "0.34130001068115234\n",
            "0.34299999475479126\n",
            "0.3431166708469391\n",
            "0.35190001130104065\n",
            "0.3520500063896179\n",
            "0.3541499972343445\n",
            "0.3569500148296356\n",
            "0.3620833456516266\n",
            "0.36550000309944153\n",
            "0.3727000057697296\n",
            "0.37371668219566345\n",
            "0.37726667523384094\n",
            "0.37771666049957275\n",
            "0.3846833407878876\n",
            "0.3857000172138214\n",
            "0.3944166600704193\n",
            "0.40291666984558105\n",
            "0.40424999594688416\n",
            "0.40591666102409363\n",
            "0.40871667861938477\n",
            "0.4094666838645935\n",
            "0.41233333945274353\n",
            "0.41315001249313354\n",
            "0.4133666753768921\n",
            "0.4134666621685028\n",
            "0.4140999913215637\n",
            "0.4146166741847992\n",
            "0.4168333411216736\n",
            "0.41760000586509705\n",
            "0.41958335041999817\n",
            "0.42098334431648254\n",
            "0.42276668548583984\n",
            "0.4246833324432373\n",
            "0.4325000047683716\n",
            "0.4342000186443329\n",
            "0.4397333264350891\n",
            "0.4403666853904724\n",
            "0.44146665930747986\n",
            "0.4439333379268646\n",
            "0.44761666655540466\n",
            "0.4483500123023987\n",
            "0.44963333010673523\n",
            "0.45001667737960815\n",
            "0.4500666856765747\n",
            "0.452349990606308\n",
            "0.4556500017642975\n",
            "0.45703333616256714\n",
            "0.45954999327659607\n",
            "0.4633166790008545\n",
            "0.46711668372154236\n",
            "0.4671500027179718\n",
            "0.46905001997947693\n",
            "0.47278332710266113\n",
            "0.4729500114917755\n",
            "0.4739166796207428\n",
            "0.47431668639183044\n",
            "0.4757833480834961\n",
            "0.47745001316070557\n",
            "0.4799833297729492\n",
            "0.4842333495616913\n",
            "0.492083340883255\n",
            "0.49276667833328247\n",
            "0.4934999942779541\n",
            "0.4954833388328552\n",
            "0.4970666766166687\n",
            "0.4970833361148834\n",
            "0.49853333830833435\n",
            "0.4986666738986969\n",
            "0.5015666484832764\n",
            "0.501966655254364\n",
            "0.5026333332061768\n",
            "0.5041000247001648\n",
            "0.5058166980743408\n",
            "0.508233368396759\n",
            "0.5094000101089478\n",
            "0.5124333500862122\n",
            "0.5154333114624023\n",
            "0.5163833498954773\n",
            "0.5200499892234802\n",
            "0.5202833414077759\n",
            "0.5216666460037231\n",
            "0.5229166746139526\n",
            "0.5249166488647461\n",
            "0.5296500325202942\n",
            "0.5302333235740662\n",
            "0.5302833318710327\n",
            "0.5313000082969666\n",
            "0.5320333242416382\n",
            "0.5321666598320007\n",
            "0.5383666753768921\n",
            "0.5422166585922241\n",
            "0.5450166463851929\n",
            "0.5472666621208191\n",
            "0.5477166771888733\n",
            "0.5479999780654907\n",
            "0.5515833497047424\n",
            "0.5525166988372803\n",
            "0.5553333163261414\n",
            "0.5562000274658203\n",
            "0.5565166473388672\n",
            "0.5570666790008545\n",
            "0.5578333139419556\n",
            "0.5579000115394592\n",
            "0.5626833438873291\n",
            "0.563883364200592\n",
            "0.5641000270843506\n",
            "0.5668666958808899\n",
            "0.5670333504676819\n",
            "0.5697667002677917\n",
            "0.5735499858856201\n",
            "0.574483335018158\n",
            "0.5757499933242798\n",
            "0.5767333507537842\n",
            "0.577666699886322\n",
            "0.5799166560173035\n",
            "0.5835000276565552\n",
            "0.5842999815940857\n",
            "0.5855000019073486\n",
            "0.5857666730880737\n",
            "0.587149977684021\n",
            "0.5878833532333374\n",
            "0.5891333222389221\n",
            "0.5893166661262512\n",
            "0.590666651725769\n",
            "0.5914000272750854\n",
            "0.5924500226974487\n",
            "0.5934666991233826\n",
            "0.594783365726471\n",
            "0.5949167013168335\n",
            "0.5952000021934509\n",
            "0.5965999960899353\n",
            "0.5968999862670898\n",
            "0.5974500179290771\n",
            "0.5990999937057495\n",
            "0.5993500351905823\n",
            "0.6008166670799255\n",
            "0.6008333563804626\n",
            "0.600849986076355\n",
            "0.6017666459083557\n",
            "0.6018000245094299\n",
            "0.6027166843414307\n",
            "0.6035500168800354\n",
            "0.6050166487693787\n",
            "0.6053333282470703\n",
            "0.6056833267211914\n",
            "0.6072666645050049\n",
            "0.6074666976928711\n",
            "0.6095166802406311\n",
            "0.6106333136558533\n",
            "0.6112499833106995\n",
            "0.6116166710853577\n",
            "0.612933337688446\n",
            "0.614633321762085\n",
            "0.6148999929428101\n",
            "0.6155000329017639\n",
            "0.6159166693687439\n",
            "0.617816686630249\n",
            "0.6183000206947327\n",
            "0.6195833683013916\n",
            "0.6212999820709229\n",
            "0.6213333606719971\n",
            "0.6219333410263062\n",
            "0.625166654586792\n",
            "0.6261500120162964\n",
            "0.6273666620254517\n",
            "0.6283666491508484\n",
            "0.6287000179290771\n",
            "0.6304333209991455\n",
            "0.6314166784286499\n",
            "0.6317833662033081\n",
            "0.6318833231925964\n",
            "0.6327833533287048\n",
            "0.6330000162124634\n",
            "0.6332166790962219\n",
            "0.6337167024612427\n",
            "0.6340500116348267\n",
            "0.6349166631698608\n",
            "0.6350833177566528\n",
            "0.6360499858856201\n",
            "0.6373500227928162\n",
            "0.6375666856765747\n",
            "0.6377500295639038\n",
            "0.6382166743278503\n",
            "0.6382666826248169\n",
            "0.6384666562080383\n",
            "0.6389833688735962\n",
            "0.6405500173568726\n",
            "0.6407999992370605\n",
            "0.6413833498954773\n",
            "0.6418833136558533\n",
            "0.64205002784729\n"
          ]
        },
        {
          "output_type": "error",
          "ename": "KeyboardInterrupt",
          "evalue": "ignored",
          "traceback": [
            "\u001b[0;31m---------------------------------------------------------------------------\u001b[0m",
            "\u001b[0;31mKeyboardInterrupt\u001b[0m                         Traceback (most recent call last)",
            "\u001b[0;32m<ipython-input-12-d3c31fbb927d>\u001b[0m in \u001b[0;36m<cell line: 4>\u001b[0;34m()\u001b[0m\n\u001b[1;32m      6\u001b[0m     \u001b[0mstep\u001b[0m \u001b[0;34m=\u001b[0m \u001b[0;36m0.0000000001\u001b[0m\u001b[0;34m\u001b[0m\u001b[0;34m\u001b[0m\u001b[0m\n\u001b[1;32m      7\u001b[0m \u001b[0;34m\u001b[0m\u001b[0m\n\u001b[0;32m----> 8\u001b[0;31m     \u001b[0mm_random\u001b[0m \u001b[0;34m=\u001b[0m \u001b[0mGPU_data\u001b[0m\u001b[0;34m(\u001b[0m\u001b[0mnp\u001b[0m\u001b[0;34m.\u001b[0m\u001b[0mrandom\u001b[0m\u001b[0;34m.\u001b[0m\u001b[0mrandn\u001b[0m\u001b[0;34m(\u001b[0m\u001b[0;36m10\u001b[0m\u001b[0;34m,\u001b[0m\u001b[0;36m784\u001b[0m\u001b[0;34m)\u001b[0m\u001b[0;34m)\u001b[0m\u001b[0;34m\u001b[0m\u001b[0;34m\u001b[0m\u001b[0m\n\u001b[0m\u001b[1;32m      9\u001b[0m \u001b[0;34m\u001b[0m\u001b[0m\n\u001b[1;32m     10\u001b[0m     \u001b[0mm\u001b[0m \u001b[0;34m=\u001b[0m \u001b[0mm_best\u001b[0m  \u001b[0;34m+\u001b[0m \u001b[0mstep\u001b[0m\u001b[0;34m*\u001b[0m\u001b[0mm_random\u001b[0m\u001b[0;34m\u001b[0m\u001b[0;34m\u001b[0m\u001b[0m\n",
            "\u001b[0;31mKeyboardInterrupt\u001b[0m: "
          ]
        }
      ]
    },
    {
      "cell_type": "code",
      "source": [],
      "metadata": {
        "id": "wOYxbN9EGVOs"
      },
      "execution_count": null,
      "outputs": []
    }
  ]
}